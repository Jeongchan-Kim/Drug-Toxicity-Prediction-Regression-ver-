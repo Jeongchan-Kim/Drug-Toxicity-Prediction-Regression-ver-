{
  "nbformat": 4,
  "nbformat_minor": 0,
  "metadata": {
    "colab": {
      "provenance": [],
      "authorship_tag": "ABX9TyOxfZk1AYrKZNCgM6nEUg0e",
      "include_colab_link": true
    },
    "kernelspec": {
      "name": "python3",
      "display_name": "Python 3"
    },
    "language_info": {
      "name": "python"
    },
    "accelerator": "GPU",
    "gpuClass": "standard"
  },
  "cells": [
    {
      "cell_type": "markdown",
      "metadata": {
        "id": "view-in-github",
        "colab_type": "text"
      },
      "source": [
        "<a href=\"https://colab.research.google.com/github/Jeongchan-Kim/Drug-Toxicity-Prediction-Regression-ver-/blob/main/Drug_Toxicity_Prediction_(Regression).ipynb\" target=\"_parent\"><img src=\"https://colab.research.google.com/assets/colab-badge.svg\" alt=\"Open In Colab\"/></a>"
      ]
    },
    {
      "cell_type": "code",
      "execution_count": null,
      "metadata": {
        "id": "8ZaUKTnONurp",
        "colab": {
          "base_uri": "https://localhost:8080/",
          "height": 1000
        },
        "outputId": "12e23be1-6053-4a2a-c050-849e1bf02ef8"
      },
      "outputs": [
        {
          "output_type": "stream",
          "name": "stdout",
          "text": [
            "Looking in indexes: https://pypi.org/simple, https://us-python.pkg.dev/colab-wheels/public/simple/\n",
            "Collecting PyTDC\n",
            "  Downloading PyTDC-0.4.0.tar.gz (107 kB)\n",
            "\u001b[2K     \u001b[90m━━━━━━━━━━━━━━━━━━━━━━━━━━━━━━━━━━━━━━━\u001b[0m \u001b[32m107.3/107.3 kB\u001b[0m \u001b[31m4.9 MB/s\u001b[0m eta \u001b[36m0:00:00\u001b[0m\n",
            "\u001b[?25h  Preparing metadata (setup.py) ... \u001b[?25l\u001b[?25hdone\n",
            "Collecting rdkit-pypi\n",
            "  Downloading rdkit_pypi-2022.9.5-cp310-cp310-manylinux_2_17_x86_64.manylinux2014_x86_64.whl (29.4 MB)\n",
            "\u001b[2K     \u001b[90m━━━━━━━━━━━━━━━━━━━━━━━━━━━━━━━━━━━━━━━━\u001b[0m \u001b[32m29.4/29.4 MB\u001b[0m \u001b[31m40.4 MB/s\u001b[0m eta \u001b[36m0:00:00\u001b[0m\n",
            "\u001b[?25hCollecting fuzzywuzzy\n",
            "  Downloading fuzzywuzzy-0.18.0-py2.py3-none-any.whl (18 kB)\n",
            "Requirement already satisfied: numpy in /usr/local/lib/python3.10/dist-packages (from PyTDC) (1.22.4)\n",
            "Requirement already satisfied: pandas in /usr/local/lib/python3.10/dist-packages (from PyTDC) (1.5.3)\n",
            "Requirement already satisfied: tqdm in /usr/local/lib/python3.10/dist-packages (from PyTDC) (4.65.0)\n",
            "Requirement already satisfied: scikit-learn in /usr/local/lib/python3.10/dist-packages (from PyTDC) (1.2.2)\n",
            "Requirement already satisfied: seaborn in /usr/local/lib/python3.10/dist-packages (from PyTDC) (0.12.2)\n",
            "Requirement already satisfied: requests in /usr/local/lib/python3.10/dist-packages (from PyTDC) (2.27.1)\n",
            "Collecting huggingface_hub\n",
            "  Downloading huggingface_hub-0.14.1-py3-none-any.whl (224 kB)\n",
            "\u001b[2K     \u001b[90m━━━━━━━━━━━━━━━━━━━━━━━━━━━━━━━━━━━━━━\u001b[0m \u001b[32m224.5/224.5 kB\u001b[0m \u001b[31m16.0 MB/s\u001b[0m eta \u001b[36m0:00:00\u001b[0m\n",
            "\u001b[?25hCollecting dataclasses\n",
            "  Downloading dataclasses-0.6-py3-none-any.whl (14 kB)\n",
            "Requirement already satisfied: filelock in /usr/local/lib/python3.10/dist-packages (from huggingface_hub->PyTDC) (3.12.0)\n",
            "Requirement already satisfied: typing-extensions>=3.7.4.3 in /usr/local/lib/python3.10/dist-packages (from huggingface_hub->PyTDC) (4.5.0)\n",
            "Requirement already satisfied: packaging>=20.9 in /usr/local/lib/python3.10/dist-packages (from huggingface_hub->PyTDC) (23.1)\n",
            "Requirement already satisfied: pyyaml>=5.1 in /usr/local/lib/python3.10/dist-packages (from huggingface_hub->PyTDC) (6.0)\n",
            "Requirement already satisfied: fsspec in /usr/local/lib/python3.10/dist-packages (from huggingface_hub->PyTDC) (2023.4.0)\n",
            "Requirement already satisfied: python-dateutil>=2.8.1 in /usr/local/lib/python3.10/dist-packages (from pandas->PyTDC) (2.8.2)\n",
            "Requirement already satisfied: pytz>=2020.1 in /usr/local/lib/python3.10/dist-packages (from pandas->PyTDC) (2022.7.1)\n",
            "Requirement already satisfied: Pillow in /usr/local/lib/python3.10/dist-packages (from rdkit-pypi->PyTDC) (8.4.0)\n",
            "Requirement already satisfied: idna<4,>=2.5 in /usr/local/lib/python3.10/dist-packages (from requests->PyTDC) (3.4)\n",
            "Requirement already satisfied: certifi>=2017.4.17 in /usr/local/lib/python3.10/dist-packages (from requests->PyTDC) (2022.12.7)\n",
            "Requirement already satisfied: charset-normalizer~=2.0.0 in /usr/local/lib/python3.10/dist-packages (from requests->PyTDC) (2.0.12)\n",
            "Requirement already satisfied: urllib3<1.27,>=1.21.1 in /usr/local/lib/python3.10/dist-packages (from requests->PyTDC) (1.26.15)\n",
            "Requirement already satisfied: joblib>=1.1.1 in /usr/local/lib/python3.10/dist-packages (from scikit-learn->PyTDC) (1.2.0)\n",
            "Requirement already satisfied: threadpoolctl>=2.0.0 in /usr/local/lib/python3.10/dist-packages (from scikit-learn->PyTDC) (3.1.0)\n",
            "Requirement already satisfied: scipy>=1.3.2 in /usr/local/lib/python3.10/dist-packages (from scikit-learn->PyTDC) (1.10.1)\n",
            "Requirement already satisfied: matplotlib!=3.6.1,>=3.1 in /usr/local/lib/python3.10/dist-packages (from seaborn->PyTDC) (3.7.1)\n",
            "Requirement already satisfied: fonttools>=4.22.0 in /usr/local/lib/python3.10/dist-packages (from matplotlib!=3.6.1,>=3.1->seaborn->PyTDC) (4.39.3)\n",
            "Requirement already satisfied: pyparsing>=2.3.1 in /usr/local/lib/python3.10/dist-packages (from matplotlib!=3.6.1,>=3.1->seaborn->PyTDC) (3.0.9)\n",
            "Requirement already satisfied: kiwisolver>=1.0.1 in /usr/local/lib/python3.10/dist-packages (from matplotlib!=3.6.1,>=3.1->seaborn->PyTDC) (1.4.4)\n",
            "Requirement already satisfied: cycler>=0.10 in /usr/local/lib/python3.10/dist-packages (from matplotlib!=3.6.1,>=3.1->seaborn->PyTDC) (0.11.0)\n",
            "Requirement already satisfied: contourpy>=1.0.1 in /usr/local/lib/python3.10/dist-packages (from matplotlib!=3.6.1,>=3.1->seaborn->PyTDC) (1.0.7)\n",
            "Requirement already satisfied: six>=1.5 in /usr/local/lib/python3.10/dist-packages (from python-dateutil>=2.8.1->pandas->PyTDC) (1.16.0)\n",
            "Building wheels for collected packages: PyTDC\n",
            "  Building wheel for PyTDC (setup.py) ... \u001b[?25l\u001b[?25hdone\n",
            "  Created wheel for PyTDC: filename=PyTDC-0.4.0-py3-none-any.whl size=139536 sha256=780183902c3a18eadcf61059c3b682104507a3306f6a0ae07e69db27f851a3da\n",
            "  Stored in directory: /root/.cache/pip/wheels/65/da/1a/38e66a2b950c7acc0f41d3bbbc12071653d099baa5402d9c32\n",
            "Successfully built PyTDC\n",
            "Installing collected packages: fuzzywuzzy, dataclasses, rdkit-pypi, huggingface_hub, PyTDC\n",
            "Successfully installed PyTDC-0.4.0 dataclasses-0.6 fuzzywuzzy-0.18.0 huggingface_hub-0.14.1 rdkit-pypi-2022.9.5\n"
          ]
        },
        {
          "output_type": "display_data",
          "data": {
            "application/vnd.colab-display-data+json": {
              "pip_warning": {
                "packages": [
                  "dataclasses"
                ]
              }
            }
          },
          "metadata": {}
        },
        {
          "output_type": "stream",
          "name": "stdout",
          "text": [
            "Looking in indexes: https://pypi.org/simple, https://us-python.pkg.dev/colab-wheels/public/simple/\n",
            "Collecting lifelines\n",
            "  Downloading lifelines-0.27.7-py3-none-any.whl (409 kB)\n",
            "\u001b[2K     \u001b[90m━━━━━━━━━━━━━━━━━━━━━━━━━━━━━━━━━━━━━━\u001b[0m \u001b[32m409.4/409.4 kB\u001b[0m \u001b[31m12.7 MB/s\u001b[0m eta \u001b[36m0:00:00\u001b[0m\n",
            "\u001b[?25hCollecting autograd-gamma>=0.3\n",
            "  Downloading autograd-gamma-0.5.0.tar.gz (4.0 kB)\n",
            "  Preparing metadata (setup.py) ... \u001b[?25l\u001b[?25hdone\n",
            "Requirement already satisfied: scipy>=1.2.0 in /usr/local/lib/python3.10/dist-packages (from lifelines) (1.10.1)\n",
            "Requirement already satisfied: autograd>=1.5 in /usr/local/lib/python3.10/dist-packages (from lifelines) (1.5)\n",
            "Requirement already satisfied: matplotlib>=3.0 in /usr/local/lib/python3.10/dist-packages (from lifelines) (3.7.1)\n",
            "Requirement already satisfied: pandas>=1.0.0 in /usr/local/lib/python3.10/dist-packages (from lifelines) (1.5.3)\n",
            "Requirement already satisfied: numpy>=1.14.0 in /usr/local/lib/python3.10/dist-packages (from lifelines) (1.22.4)\n",
            "Collecting formulaic>=0.2.2\n",
            "  Downloading formulaic-0.6.1-py3-none-any.whl (82 kB)\n",
            "\u001b[2K     \u001b[90m━━━━━━━━━━━━━━━━━━━━━━━━━━━━━━━━━━━━━━━━\u001b[0m \u001b[32m82.3/82.3 kB\u001b[0m \u001b[31m11.9 MB/s\u001b[0m eta \u001b[36m0:00:00\u001b[0m\n",
            "\u001b[?25hRequirement already satisfied: future>=0.15.2 in /usr/local/lib/python3.10/dist-packages (from autograd>=1.5->lifelines) (0.18.3)\n",
            "Collecting astor>=0.8\n",
            "  Downloading astor-0.8.1-py2.py3-none-any.whl (27 kB)\n",
            "Requirement already satisfied: typing-extensions>=4.2.0 in /usr/local/lib/python3.10/dist-packages (from formulaic>=0.2.2->lifelines) (4.5.0)\n",
            "Collecting interface-meta>=1.2.0\n",
            "  Downloading interface_meta-1.3.0-py3-none-any.whl (14 kB)\n",
            "Requirement already satisfied: wrapt>=1.0 in /usr/local/lib/python3.10/dist-packages (from formulaic>=0.2.2->lifelines) (1.14.1)\n",
            "Requirement already satisfied: python-dateutil>=2.7 in /usr/local/lib/python3.10/dist-packages (from matplotlib>=3.0->lifelines) (2.8.2)\n",
            "Requirement already satisfied: kiwisolver>=1.0.1 in /usr/local/lib/python3.10/dist-packages (from matplotlib>=3.0->lifelines) (1.4.4)\n",
            "Requirement already satisfied: pillow>=6.2.0 in /usr/local/lib/python3.10/dist-packages (from matplotlib>=3.0->lifelines) (8.4.0)\n",
            "Requirement already satisfied: packaging>=20.0 in /usr/local/lib/python3.10/dist-packages (from matplotlib>=3.0->lifelines) (23.1)\n",
            "Requirement already satisfied: cycler>=0.10 in /usr/local/lib/python3.10/dist-packages (from matplotlib>=3.0->lifelines) (0.11.0)\n",
            "Requirement already satisfied: pyparsing>=2.3.1 in /usr/local/lib/python3.10/dist-packages (from matplotlib>=3.0->lifelines) (3.0.9)\n",
            "Requirement already satisfied: contourpy>=1.0.1 in /usr/local/lib/python3.10/dist-packages (from matplotlib>=3.0->lifelines) (1.0.7)\n",
            "Requirement already satisfied: fonttools>=4.22.0 in /usr/local/lib/python3.10/dist-packages (from matplotlib>=3.0->lifelines) (4.39.3)\n",
            "Requirement already satisfied: pytz>=2020.1 in /usr/local/lib/python3.10/dist-packages (from pandas>=1.0.0->lifelines) (2022.7.1)\n",
            "Requirement already satisfied: six>=1.5 in /usr/local/lib/python3.10/dist-packages (from python-dateutil>=2.7->matplotlib>=3.0->lifelines) (1.16.0)\n",
            "Building wheels for collected packages: autograd-gamma\n",
            "  Building wheel for autograd-gamma (setup.py) ... \u001b[?25l\u001b[?25hdone\n",
            "  Created wheel for autograd-gamma: filename=autograd_gamma-0.5.0-py3-none-any.whl size=4049 sha256=df34e8618d69660ce85abdce381d564b582a5ed6eb5df549906c77629459281a\n",
            "  Stored in directory: /root/.cache/pip/wheels/25/cc/e0/ef2969164144c899fedb22b338f6703e2b9cf46eeebf254991\n",
            "Successfully built autograd-gamma\n",
            "Installing collected packages: interface-meta, astor, autograd-gamma, formulaic, lifelines\n",
            "Successfully installed astor-0.8.1 autograd-gamma-0.5.0 formulaic-0.6.1 interface-meta-1.3.0 lifelines-0.27.7\n",
            "Looking in indexes: https://pypi.org/simple, https://us-python.pkg.dev/colab-wheels/public/simple/\n",
            "Requirement already satisfied: rdkit-pypi in /usr/local/lib/python3.10/dist-packages (2022.9.5)\n",
            "Requirement already satisfied: Pillow in /usr/local/lib/python3.10/dist-packages (from rdkit-pypi) (8.4.0)\n",
            "Requirement already satisfied: numpy in /usr/local/lib/python3.10/dist-packages (from rdkit-pypi) (1.22.4)\n"
          ]
        }
      ],
      "source": [
        "!pip install PyTDC\n",
        "!pip install lifelines\n",
        "!pip install rdkit-pypi"
      ]
    },
    {
      "cell_type": "markdown",
      "source": [
        "# **Preparing Data**"
      ],
      "metadata": {
        "id": "fTwem5s-yLPX"
      }
    },
    {
      "cell_type": "code",
      "source": [
        "from tdc.single_pred import Tox\n",
        "\n",
        "# Upload LD50 data using TDC api\n",
        "data = Tox(name = 'LD50_Zhu')\n",
        "# Divide train-valid-test data\n",
        "split = data.get_split()"
      ],
      "metadata": {
        "colab": {
          "base_uri": "https://localhost:8080/"
        },
        "id": "lm06pgLbw-BN",
        "outputId": "7f841df5-1077-4c38-f0e4-a28a1441b48f"
      },
      "execution_count": null,
      "outputs": [
        {
          "output_type": "stream",
          "name": "stderr",
          "text": [
            "Downloading...\n",
            "100%|██████████| 707k/707k [00:00<00:00, 2.29MiB/s]\n",
            "Loading...\n",
            "Done!\n"
          ]
        }
      ]
    },
    {
      "cell_type": "code",
      "source": [
        "# checking divided data\n",
        "split.keys()"
      ],
      "metadata": {
        "colab": {
          "base_uri": "https://localhost:8080/"
        },
        "id": "7hL2rPkqxbSc",
        "outputId": "71365442-6fb4-40e9-dfe5-78ee18ea2f13"
      },
      "execution_count": null,
      "outputs": [
        {
          "output_type": "execute_result",
          "data": {
            "text/plain": [
              "dict_keys(['train', 'valid', 'test'])"
            ]
          },
          "metadata": {},
          "execution_count": 3
        }
      ]
    },
    {
      "cell_type": "markdown",
      "source": [
        "# **Data pre-processing**\n",
        "\n",
        "Molecular representations in AI-driven drug discovery: a review and practical guide"
      ],
      "metadata": {
        "id": "mDLKt6A7ygoa"
      }
    },
    {
      "cell_type": "code",
      "source": [
        "from rdkit import Chem, DataStructs\n",
        "from rdkit.Chem import AllChem\n",
        "import numpy as np\n",
        "\n",
        "def smiles2morgan(s, radius = 2, nBits = 1024):\n",
        "    \"\"\"\n",
        "    SMILES data -> morgan fingerprint (vetot of 1024 bits)\n",
        "\n",
        "    Args:\n",
        "        s (str): SMILES of a drug\n",
        "        radius (int): ECFP radius\n",
        "        bBits (int): size of binary representation\n",
        "\n",
        "    Return ():\n",
        "        morgan fingerprint \n",
        "    \"\"\"\n",
        "    try:\n",
        "        mol = Chem.MolFromSmiles(s)\n",
        "        features_vec = AllChem.GetMorganFingerprintAsBitVect(mol, radius, nBits=nBits)\n",
        "        features = np.zeros((1,))\n",
        "        DataStructs.ConvertToNumpyArray(features_vec, features)\n",
        "    except:\n",
        "        print('rdkit not found this smiles for morgan: ' + s + ' convert to all 0 features')\n",
        "        features = np.zeros((nBits, ))\n",
        "        \n",
        "    return features"
      ],
      "metadata": {
        "id": "9tPriyVeyTRb"
      },
      "execution_count": null,
      "outputs": []
    },
    {
      "cell_type": "code",
      "source": [
        "# adapting pre-prdcessing function\n",
        "for mode in ['train', 'valid', 'test']:  \n",
        "  split[mode]['embedding'] = split[mode]['Drug'].apply(smiles2morgan)"
      ],
      "metadata": {
        "id": "LvQ0aaMExmBI"
      },
      "execution_count": null,
      "outputs": []
    },
    {
      "cell_type": "code",
      "source": [
        "split[\"test\"]"
      ],
      "metadata": {
        "colab": {
          "base_uri": "https://localhost:8080/",
          "height": 633
        },
        "id": "uZDnbUO5zylE",
        "outputId": "efad0289-51ee-4835-9e27-72971cb06d4f"
      },
      "execution_count": null,
      "outputs": [
        {
          "output_type": "execute_result",
          "data": {
            "text/plain": [
              "                                                Drug_ID  \\\n",
              "0     Ether, alpha-(bromomethyl)-p-cyclopentylbenzyl...   \n",
              "1                               Benzene, 1,4-dinitroso-   \n",
              "2     Succinic acid, mercapto-, diethyl ester, S-est...   \n",
              "3          Phosphorodithioic acid, O,S,S-triethyl ester   \n",
              "4                                Phenol, 2-octyl- (9CI)   \n",
              "...                                                 ...   \n",
              "1472  1H-1,2,4-Triazole, 1-((2-(2,4-dichlorophenyl)-...   \n",
              "1473  Phosphorothioic acid, O-(3-chloro-4-nitropheny...   \n",
              "1474  Dibenz(b,f)oxepin-2-acetic acid, 10,11-dihydro...   \n",
              "1475  Phosphorothioic acid, O,O-dimethyl S-(2-(ethyl...   \n",
              "1476  Cyclopropanecarboxylic acid, 2,2-dimethyl-3-(2...   \n",
              "\n",
              "                                             Drug      Y  \\\n",
              "0                    CCCCOC(CBr)c1ccc(C2CCCC2)cc1  3.114   \n",
              "1                                O=Nc1ccc(N=O)cc1  2.125   \n",
              "2                CCOC(=O)CC(SP(=O)(OC)SC)C(=O)OCC  3.466   \n",
              "3                                CCOP(=O)(SCC)SCC  3.185   \n",
              "4                               CCCCCCCCc1ccccc1O  1.867   \n",
              "...                                           ...    ...   \n",
              "1472         CCCC1COC(Cn2cncn2)(c2ccc(Cl)cc2Cl)O1  2.353   \n",
              "1473     CCOP(=S)(OCC)Oc1ccc([N+](=O)[O-])c(Cl)c1  3.814   \n",
              "1474        Cc1ccc2c(c1)CC(=O)c1cc(CC(=O)O)ccc1O2  2.937   \n",
              "1475                    CCS(=O)(=O)CCSP(=O)(OC)OC  3.908   \n",
              "1476  CC(C)=CC1C(C(=O)OCc2coc(Cc3ccccc3)c2)C1(C)C  3.730   \n",
              "\n",
              "                                              embedding  \n",
              "0     [0.0, 1.0, 0.0, 1.0, 1.0, 0.0, 0.0, 0.0, 0.0, ...  \n",
              "1     [0.0, 0.0, 0.0, 0.0, 0.0, 0.0, 0.0, 0.0, 0.0, ...  \n",
              "2     [0.0, 1.0, 0.0, 0.0, 0.0, 0.0, 0.0, 0.0, 0.0, ...  \n",
              "3     [0.0, 0.0, 0.0, 0.0, 0.0, 0.0, 0.0, 0.0, 0.0, ...  \n",
              "4     [0.0, 0.0, 0.0, 0.0, 0.0, 0.0, 0.0, 0.0, 0.0, ...  \n",
              "...                                                 ...  \n",
              "1472  [1.0, 0.0, 0.0, 0.0, 0.0, 0.0, 0.0, 0.0, 0.0, ...  \n",
              "1473  [0.0, 0.0, 0.0, 0.0, 0.0, 0.0, 0.0, 0.0, 0.0, ...  \n",
              "1474  [0.0, 0.0, 0.0, 0.0, 0.0, 0.0, 0.0, 0.0, 0.0, ...  \n",
              "1475  [0.0, 0.0, 0.0, 0.0, 0.0, 0.0, 0.0, 0.0, 0.0, ...  \n",
              "1476  [0.0, 0.0, 0.0, 0.0, 0.0, 0.0, 0.0, 0.0, 0.0, ...  \n",
              "\n",
              "[1477 rows x 4 columns]"
            ],
            "text/html": [
              "\n",
              "  <div id=\"df-8ceeb209-0002-43d6-94a3-1e600a9ec4cb\">\n",
              "    <div class=\"colab-df-container\">\n",
              "      <div>\n",
              "<style scoped>\n",
              "    .dataframe tbody tr th:only-of-type {\n",
              "        vertical-align: middle;\n",
              "    }\n",
              "\n",
              "    .dataframe tbody tr th {\n",
              "        vertical-align: top;\n",
              "    }\n",
              "\n",
              "    .dataframe thead th {\n",
              "        text-align: right;\n",
              "    }\n",
              "</style>\n",
              "<table border=\"1\" class=\"dataframe\">\n",
              "  <thead>\n",
              "    <tr style=\"text-align: right;\">\n",
              "      <th></th>\n",
              "      <th>Drug_ID</th>\n",
              "      <th>Drug</th>\n",
              "      <th>Y</th>\n",
              "      <th>embedding</th>\n",
              "    </tr>\n",
              "  </thead>\n",
              "  <tbody>\n",
              "    <tr>\n",
              "      <th>0</th>\n",
              "      <td>Ether, alpha-(bromomethyl)-p-cyclopentylbenzyl...</td>\n",
              "      <td>CCCCOC(CBr)c1ccc(C2CCCC2)cc1</td>\n",
              "      <td>3.114</td>\n",
              "      <td>[0.0, 1.0, 0.0, 1.0, 1.0, 0.0, 0.0, 0.0, 0.0, ...</td>\n",
              "    </tr>\n",
              "    <tr>\n",
              "      <th>1</th>\n",
              "      <td>Benzene, 1,4-dinitroso-</td>\n",
              "      <td>O=Nc1ccc(N=O)cc1</td>\n",
              "      <td>2.125</td>\n",
              "      <td>[0.0, 0.0, 0.0, 0.0, 0.0, 0.0, 0.0, 0.0, 0.0, ...</td>\n",
              "    </tr>\n",
              "    <tr>\n",
              "      <th>2</th>\n",
              "      <td>Succinic acid, mercapto-, diethyl ester, S-est...</td>\n",
              "      <td>CCOC(=O)CC(SP(=O)(OC)SC)C(=O)OCC</td>\n",
              "      <td>3.466</td>\n",
              "      <td>[0.0, 1.0, 0.0, 0.0, 0.0, 0.0, 0.0, 0.0, 0.0, ...</td>\n",
              "    </tr>\n",
              "    <tr>\n",
              "      <th>3</th>\n",
              "      <td>Phosphorodithioic acid, O,S,S-triethyl ester</td>\n",
              "      <td>CCOP(=O)(SCC)SCC</td>\n",
              "      <td>3.185</td>\n",
              "      <td>[0.0, 0.0, 0.0, 0.0, 0.0, 0.0, 0.0, 0.0, 0.0, ...</td>\n",
              "    </tr>\n",
              "    <tr>\n",
              "      <th>4</th>\n",
              "      <td>Phenol, 2-octyl- (9CI)</td>\n",
              "      <td>CCCCCCCCc1ccccc1O</td>\n",
              "      <td>1.867</td>\n",
              "      <td>[0.0, 0.0, 0.0, 0.0, 0.0, 0.0, 0.0, 0.0, 0.0, ...</td>\n",
              "    </tr>\n",
              "    <tr>\n",
              "      <th>...</th>\n",
              "      <td>...</td>\n",
              "      <td>...</td>\n",
              "      <td>...</td>\n",
              "      <td>...</td>\n",
              "    </tr>\n",
              "    <tr>\n",
              "      <th>1472</th>\n",
              "      <td>1H-1,2,4-Triazole, 1-((2-(2,4-dichlorophenyl)-...</td>\n",
              "      <td>CCCC1COC(Cn2cncn2)(c2ccc(Cl)cc2Cl)O1</td>\n",
              "      <td>2.353</td>\n",
              "      <td>[1.0, 0.0, 0.0, 0.0, 0.0, 0.0, 0.0, 0.0, 0.0, ...</td>\n",
              "    </tr>\n",
              "    <tr>\n",
              "      <th>1473</th>\n",
              "      <td>Phosphorothioic acid, O-(3-chloro-4-nitropheny...</td>\n",
              "      <td>CCOP(=S)(OCC)Oc1ccc([N+](=O)[O-])c(Cl)c1</td>\n",
              "      <td>3.814</td>\n",
              "      <td>[0.0, 0.0, 0.0, 0.0, 0.0, 0.0, 0.0, 0.0, 0.0, ...</td>\n",
              "    </tr>\n",
              "    <tr>\n",
              "      <th>1474</th>\n",
              "      <td>Dibenz(b,f)oxepin-2-acetic acid, 10,11-dihydro...</td>\n",
              "      <td>Cc1ccc2c(c1)CC(=O)c1cc(CC(=O)O)ccc1O2</td>\n",
              "      <td>2.937</td>\n",
              "      <td>[0.0, 0.0, 0.0, 0.0, 0.0, 0.0, 0.0, 0.0, 0.0, ...</td>\n",
              "    </tr>\n",
              "    <tr>\n",
              "      <th>1475</th>\n",
              "      <td>Phosphorothioic acid, O,O-dimethyl S-(2-(ethyl...</td>\n",
              "      <td>CCS(=O)(=O)CCSP(=O)(OC)OC</td>\n",
              "      <td>3.908</td>\n",
              "      <td>[0.0, 0.0, 0.0, 0.0, 0.0, 0.0, 0.0, 0.0, 0.0, ...</td>\n",
              "    </tr>\n",
              "    <tr>\n",
              "      <th>1476</th>\n",
              "      <td>Cyclopropanecarboxylic acid, 2,2-dimethyl-3-(2...</td>\n",
              "      <td>CC(C)=CC1C(C(=O)OCc2coc(Cc3ccccc3)c2)C1(C)C</td>\n",
              "      <td>3.730</td>\n",
              "      <td>[0.0, 0.0, 0.0, 0.0, 0.0, 0.0, 0.0, 0.0, 0.0, ...</td>\n",
              "    </tr>\n",
              "  </tbody>\n",
              "</table>\n",
              "<p>1477 rows × 4 columns</p>\n",
              "</div>\n",
              "      <button class=\"colab-df-convert\" onclick=\"convertToInteractive('df-8ceeb209-0002-43d6-94a3-1e600a9ec4cb')\"\n",
              "              title=\"Convert this dataframe to an interactive table.\"\n",
              "              style=\"display:none;\">\n",
              "        \n",
              "  <svg xmlns=\"http://www.w3.org/2000/svg\" height=\"24px\"viewBox=\"0 0 24 24\"\n",
              "       width=\"24px\">\n",
              "    <path d=\"M0 0h24v24H0V0z\" fill=\"none\"/>\n",
              "    <path d=\"M18.56 5.44l.94 2.06.94-2.06 2.06-.94-2.06-.94-.94-2.06-.94 2.06-2.06.94zm-11 1L8.5 8.5l.94-2.06 2.06-.94-2.06-.94L8.5 2.5l-.94 2.06-2.06.94zm10 10l.94 2.06.94-2.06 2.06-.94-2.06-.94-.94-2.06-.94 2.06-2.06.94z\"/><path d=\"M17.41 7.96l-1.37-1.37c-.4-.4-.92-.59-1.43-.59-.52 0-1.04.2-1.43.59L10.3 9.45l-7.72 7.72c-.78.78-.78 2.05 0 2.83L4 21.41c.39.39.9.59 1.41.59.51 0 1.02-.2 1.41-.59l7.78-7.78 2.81-2.81c.8-.78.8-2.07 0-2.86zM5.41 20L4 18.59l7.72-7.72 1.47 1.35L5.41 20z\"/>\n",
              "  </svg>\n",
              "      </button>\n",
              "      \n",
              "  <style>\n",
              "    .colab-df-container {\n",
              "      display:flex;\n",
              "      flex-wrap:wrap;\n",
              "      gap: 12px;\n",
              "    }\n",
              "\n",
              "    .colab-df-convert {\n",
              "      background-color: #E8F0FE;\n",
              "      border: none;\n",
              "      border-radius: 50%;\n",
              "      cursor: pointer;\n",
              "      display: none;\n",
              "      fill: #1967D2;\n",
              "      height: 32px;\n",
              "      padding: 0 0 0 0;\n",
              "      width: 32px;\n",
              "    }\n",
              "\n",
              "    .colab-df-convert:hover {\n",
              "      background-color: #E2EBFA;\n",
              "      box-shadow: 0px 1px 2px rgba(60, 64, 67, 0.3), 0px 1px 3px 1px rgba(60, 64, 67, 0.15);\n",
              "      fill: #174EA6;\n",
              "    }\n",
              "\n",
              "    [theme=dark] .colab-df-convert {\n",
              "      background-color: #3B4455;\n",
              "      fill: #D2E3FC;\n",
              "    }\n",
              "\n",
              "    [theme=dark] .colab-df-convert:hover {\n",
              "      background-color: #434B5C;\n",
              "      box-shadow: 0px 1px 3px 1px rgba(0, 0, 0, 0.15);\n",
              "      filter: drop-shadow(0px 1px 2px rgba(0, 0, 0, 0.3));\n",
              "      fill: #FFFFFF;\n",
              "    }\n",
              "  </style>\n",
              "\n",
              "      <script>\n",
              "        const buttonEl =\n",
              "          document.querySelector('#df-8ceeb209-0002-43d6-94a3-1e600a9ec4cb button.colab-df-convert');\n",
              "        buttonEl.style.display =\n",
              "          google.colab.kernel.accessAllowed ? 'block' : 'none';\n",
              "\n",
              "        async function convertToInteractive(key) {\n",
              "          const element = document.querySelector('#df-8ceeb209-0002-43d6-94a3-1e600a9ec4cb');\n",
              "          const dataTable =\n",
              "            await google.colab.kernel.invokeFunction('convertToInteractive',\n",
              "                                                     [key], {});\n",
              "          if (!dataTable) return;\n",
              "\n",
              "          const docLinkHtml = 'Like what you see? Visit the ' +\n",
              "            '<a target=\"_blank\" href=https://colab.research.google.com/notebooks/data_table.ipynb>data table notebook</a>'\n",
              "            + ' to learn more about interactive tables.';\n",
              "          element.innerHTML = '';\n",
              "          dataTable['output_type'] = 'display_data';\n",
              "          await google.colab.output.renderOutput(dataTable, element);\n",
              "          const docLink = document.createElement('div');\n",
              "          docLink.innerHTML = docLinkHtml;\n",
              "          element.appendChild(docLink);\n",
              "        }\n",
              "      </script>\n",
              "    </div>\n",
              "  </div>\n",
              "  "
            ]
          },
          "metadata": {},
          "execution_count": 6
        }
      ]
    },
    {
      "cell_type": "markdown",
      "source": [
        "# **Torch Dataset & Data Loader for batch**"
      ],
      "metadata": {
        "id": "eXgJyrRCz9aq"
      }
    },
    {
      "cell_type": "code",
      "source": [
        "import torch\n",
        "from torch import nn \n",
        "import torch.nn.functional as F\n",
        "from torch.utils import data"
      ],
      "metadata": {
        "id": "dupvo_H20FM4"
      },
      "execution_count": null,
      "outputs": []
    },
    {
      "cell_type": "code",
      "source": [
        "class data_process_loader(data.Dataset):\n",
        "\n",
        "    def __init__(self, df):\n",
        "        self.df = df\n",
        "\n",
        "    def __len__(self):\n",
        "        return self.df.shape[0]\n",
        "\n",
        "    def __getitem__(self, index):\n",
        "        v_d = self.df.iloc[index]['embedding']  # input\n",
        "        y = self.df.iloc[index]['Y'] # label\n",
        "\n",
        "        return v_d, y"
      ],
      "metadata": {
        "id": "UPAVEFPP0c0I"
      },
      "execution_count": null,
      "outputs": []
    },
    {
      "cell_type": "code",
      "source": [
        "train_dataset = data_process_loader(split[\"train\"])\n",
        "valid_dataset = data_process_loader(split[\"valid\"])\n",
        "test_dataset = data_process_loader(split[\"test\"])"
      ],
      "metadata": {
        "id": "x98U2VWY0kOU"
      },
      "execution_count": null,
      "outputs": []
    },
    {
      "cell_type": "code",
      "source": [
        "# hyperparameter for Data Loader\n",
        "params = {'batch_size': 64,\n",
        "        'shuffle': True,\n",
        "        'num_workers': 1,\n",
        "        'drop_last': False}"
      ],
      "metadata": {
        "id": "kyqxEWDV0op8"
      },
      "execution_count": null,
      "outputs": []
    },
    {
      "cell_type": "code",
      "source": [
        "training_generator = data.DataLoader(train_dataset, **params)\n",
        "valid_generator = data.DataLoader(valid_dataset, **params)\n",
        "test_generator = data.DataLoader(test_dataset, **params)"
      ],
      "metadata": {
        "id": "IebE52Ll03Bs"
      },
      "execution_count": null,
      "outputs": []
    },
    {
      "cell_type": "code",
      "source": [
        "for v_d, y in training_generator:\n",
        "    print(v_d)\n",
        "    print(v_d.shape)\n",
        "    print()\n",
        "    print(y)\n",
        "    print(y.shape)\n",
        "    break"
      ],
      "metadata": {
        "colab": {
          "base_uri": "https://localhost:8080/"
        },
        "id": "glXu2oWi1FZ0",
        "outputId": "0787a589-5550-405c-c689-4aa21f61c122"
      },
      "execution_count": null,
      "outputs": [
        {
          "output_type": "stream",
          "name": "stdout",
          "text": [
            "tensor([[0., 0., 0.,  ..., 0., 0., 0.],\n",
            "        [0., 0., 0.,  ..., 0., 0., 0.],\n",
            "        [0., 0., 0.,  ..., 0., 0., 0.],\n",
            "        ...,\n",
            "        [0., 0., 1.,  ..., 0., 0., 0.],\n",
            "        [0., 0., 1.,  ..., 0., 0., 0.],\n",
            "        [0., 0., 0.,  ..., 0., 0., 0.]], dtype=torch.float64)\n",
            "torch.Size([64, 1024])\n",
            "\n",
            "tensor([2.2990, 3.6700, 2.6850, 2.3910, 1.6170, 2.9470, 3.1560, 2.5050, 2.3420,\n",
            "        2.9870, 2.7640, 2.7810, 1.3880, 1.8690, 1.3250, 2.3670, 1.9860, 3.0620,\n",
            "        4.0900, 1.4530, 1.7670, 2.2030, 1.7660, 2.2490, 1.9780, 2.2280, 1.6820,\n",
            "        2.6380, 1.7130, 3.0880, 2.6780, 2.6110, 2.3090, 3.0860, 2.4970, 1.6600,\n",
            "        1.6820, 1.5270, 2.6860, 4.4930, 3.8660, 2.0400, 2.9250, 2.3150, 1.6120,\n",
            "        2.4320, 2.1430, 4.8260, 2.4310, 4.7300, 3.4910, 1.6870, 2.6000, 3.8900,\n",
            "        2.4780, 1.6180, 4.4150, 2.8640, 1.9530, 2.6450, 1.9830, 1.3990, 1.8880,\n",
            "        1.9490], dtype=torch.float64)\n",
            "torch.Size([64])\n"
          ]
        }
      ]
    },
    {
      "cell_type": "markdown",
      "source": [
        "# **MODEL**"
      ],
      "metadata": {
        "id": "_aKiXvLL1f0I"
      }
    },
    {
      "cell_type": "markdown",
      "source": [
        "# **Feature Extractor**"
      ],
      "metadata": {
        "id": "1MorLkk21jzV"
      }
    },
    {
      "cell_type": "code",
      "source": [
        "class MLP(nn.Sequential):\n",
        "\tdef __init__(self, input_dim, output_dim, hidden_dims_lst):\n",
        "\t\t'''Feature extractor\n",
        "\t\t\tArgs:\n",
        "\t\t\t\tinput_dim (int): 입력층 차원\n",
        "\t\t\t\toutput_dim (int): 출력층 차원\n",
        "\t\t\t\thidden_dims_lst (list): hidden 차원의 차원\n",
        "\t\t'''\n",
        "\t\tsuper(MLP, self).__init__()\n",
        "  \n",
        "\t\t# Feature extractor layer size \n",
        "\t\tlayer_size = len(hidden_dims_lst) + 1\n",
        "\n",
        "\t\t# 각 층의 차원 크기를 담은 리스트 \n",
        "\t\tdims = [input_dim] + hidden_dims_lst + [output_dim]\n",
        "\n",
        "\t\t# 입력층, hidden 층, 출력층 차원대로 linear layer 쌓기\n",
        "\t\tself.predictor = nn.ModuleList([nn.Linear(dims[i], dims[i+1]) for i in range(layer_size)])\n",
        "\n",
        "\tdef forward(self, v):\n",
        "\t\t# 입력 데이터 v로 forward pass \n",
        "\t\tv = v.float().to(device)\n",
        "\t\tfor i, l in enumerate(self.predictor):\n",
        "\t\t\tv = F.relu(l(v))\n",
        "\t\treturn v  "
      ],
      "metadata": {
        "id": "ECqD9rSR1u1m"
      },
      "execution_count": null,
      "outputs": []
    },
    {
      "cell_type": "markdown",
      "source": [
        "# **Classifier**"
      ],
      "metadata": {
        "id": "TQhBZv2r2QIR"
      }
    },
    {
      "cell_type": "code",
      "source": [
        "class Classifier(nn.Sequential):\n",
        "\tdef __init__(self, model_drug, hidden_dim_drug, cls_hidden_dims):\n",
        "\t\t'''Classifier\n",
        "\t\t\tArgs:\n",
        "\t\t\t\tmodel_drug : 앞서 생성한 Feature extractor \n",
        "\t\t\t\thidden_dim_drug (int): \n",
        "Classifier 입력층 차원\n",
        "\t\t\t\tcls_hidden_dims (list): \n",
        "Classifier hidden 차원\n",
        "\t\t'''\n",
        "\t\tsuper(Classifier, self).__init__()\n",
        "  \n",
        "\t\t# feature extractor\n",
        "\t\tself.model_drug = model_drug\n",
        "\n",
        "\t\t# dropout\n",
        "\t\tself.dropout = nn.Dropout(0.1)\n",
        "  \n",
        "\t\t# classifier 입력 차원\n",
        "\t\tself.input_dim_drug = hidden_dim_drug\n",
        "\n",
        "\t\t# classifier hidden 차원\n",
        "\t\tself.hidden_dims = cls_hidden_dims\n",
        "\n",
        "\t\t# classifier layer size \n",
        "\t\tlayer_size = len(self.hidden_dims) + 1\n",
        "\n",
        "\t\t# 각 층의 차원 크기를 담은 리스트 \n",
        "\t\tdims = [self.input_dim_drug] + self.hidden_dims + [1]\n",
        "\t\t\n",
        "\t\t# 입력층, hidden 층, 출력층 차원대로 linear layer 쌓기\n",
        "\t\tself.predictor = nn.ModuleList([nn.Linear(dims[i], dims[i+1]) for i in range(layer_size)])\n",
        "\n",
        "\tdef forward(self, v_D):\n",
        "\t\t# feature extractor로 입력 데이터 encoding\n",
        "\t\tv_f = self.model_drug(v_D)\n",
        "\t\t\n",
        "\t\t# forword-pass with classify \n",
        "\t\tfor i, l in enumerate(self.predictor):\n",
        "\t\t\tif i==(len(self.predictor)-1):\n",
        "\t\t\t\tv_f = l(v_f)\n",
        "\t\t\telse:\n",
        "\t\t\t\tv_f = F.relu(self.dropout(l(v_f)))\n",
        "\t\treturn v_f "
      ],
      "metadata": {
        "id": "OELiMnK32T4Q"
      },
      "execution_count": null,
      "outputs": []
    },
    {
      "cell_type": "code",
      "source": [
        "# model hyperparameter\n",
        "input_dim_drug = 1024\n",
        "hidden_dim_drug = 256\n",
        "cls_hidden_dims = [1024, 1024, 512]\n",
        "mlp_hidden_dims_drug = [1024, 256, 64]"
      ],
      "metadata": {
        "id": "poX5WVMU2g9b"
      },
      "execution_count": null,
      "outputs": []
    },
    {
      "cell_type": "code",
      "source": [
        "model_drug = MLP(1024, hidden_dim_drug, mlp_hidden_dims_drug)"
      ],
      "metadata": {
        "id": "K5Aw4Gbd3Qno"
      },
      "execution_count": null,
      "outputs": []
    },
    {
      "cell_type": "code",
      "source": [
        "model_drug"
      ],
      "metadata": {
        "colab": {
          "base_uri": "https://localhost:8080/"
        },
        "id": "clKC3D073S_f",
        "outputId": "65d56ab8-beb9-4460-af8d-1d5a3dc33f16"
      },
      "execution_count": null,
      "outputs": [
        {
          "output_type": "execute_result",
          "data": {
            "text/plain": [
              "MLP(\n",
              "  (predictor): ModuleList(\n",
              "    (0): Linear(in_features=1024, out_features=1024, bias=True)\n",
              "    (1): Linear(in_features=1024, out_features=256, bias=True)\n",
              "    (2): Linear(in_features=256, out_features=64, bias=True)\n",
              "    (3): Linear(in_features=64, out_features=256, bias=True)\n",
              "  )\n",
              ")"
            ]
          },
          "metadata": {},
          "execution_count": 74
        }
      ]
    },
    {
      "cell_type": "code",
      "source": [
        "model = Classifier(model_drug, hidden_dim_drug, cls_hidden_dims)"
      ],
      "metadata": {
        "id": "tbSWeVvzCkvh"
      },
      "execution_count": null,
      "outputs": []
    },
    {
      "cell_type": "code",
      "source": [
        "model"
      ],
      "metadata": {
        "colab": {
          "base_uri": "https://localhost:8080/"
        },
        "id": "Qm4PxLxbCmag",
        "outputId": "670bab5a-0e67-4fd4-9faf-687aff362efc"
      },
      "execution_count": null,
      "outputs": [
        {
          "output_type": "execute_result",
          "data": {
            "text/plain": [
              "Classifier(\n",
              "  (model_drug): MLP(\n",
              "    (predictor): ModuleList(\n",
              "      (0): Linear(in_features=1024, out_features=1024, bias=True)\n",
              "      (1): Linear(in_features=1024, out_features=256, bias=True)\n",
              "      (2): Linear(in_features=256, out_features=64, bias=True)\n",
              "      (3): Linear(in_features=64, out_features=256, bias=True)\n",
              "    )\n",
              "  )\n",
              "  (dropout): Dropout(p=0.1, inplace=False)\n",
              "  (predictor): ModuleList(\n",
              "    (0): Linear(in_features=256, out_features=1024, bias=True)\n",
              "    (1): Linear(in_features=1024, out_features=1024, bias=True)\n",
              "    (2): Linear(in_features=1024, out_features=512, bias=True)\n",
              "    (3): Linear(in_features=512, out_features=1, bias=True)\n",
              "  )\n",
              ")"
            ]
          },
          "metadata": {},
          "execution_count": 76
        }
      ]
    },
    {
      "cell_type": "markdown",
      "source": [
        "# **MODEL Training**"
      ],
      "metadata": {
        "id": "5N70vdim3aii"
      }
    },
    {
      "cell_type": "code",
      "source": [
        "# hyperparameter for model training\n",
        "learning_rate = 0.0001\n",
        "decay         = 0.00001\n",
        "train_epoch   = 15"
      ],
      "metadata": {
        "id": "tk40dDdi3fX-"
      },
      "execution_count": null,
      "outputs": []
    },
    {
      "cell_type": "code",
      "source": [
        "# optimizer \n",
        "opt = torch.optim.Adam(model.parameters(), lr = learning_rate, weight_decay = decay)\n",
        "loss_fn = torch.nn.MSELoss()"
      ],
      "metadata": {
        "id": "Ov9B-7q43kkF"
      },
      "execution_count": null,
      "outputs": []
    },
    {
      "cell_type": "code",
      "source": [
        "device = torch.device('cuda' if torch.cuda.is_available() else 'cpu')\n",
        "print(f\"Current Device: {device}\")"
      ],
      "metadata": {
        "colab": {
          "base_uri": "https://localhost:8080/"
        },
        "id": "9QtbixUf4Gm4",
        "outputId": "8f516de2-a1fc-4bc6-a8c9-d0b65390ab0d"
      },
      "execution_count": null,
      "outputs": [
        {
          "output_type": "stream",
          "name": "stdout",
          "text": [
            "Current Device: cuda\n"
          ]
        }
      ]
    },
    {
      "cell_type": "code",
      "source": [
        "import copy\n",
        "from prettytable import PrettyTable\n",
        "from time import time\n",
        "from sklearn.metrics import mean_squared_error\n",
        "from scipy.stats import pearsonr\n",
        "from lifelines.utils import concordance_index"
      ],
      "metadata": {
        "id": "OI9xHdse30RB"
      },
      "execution_count": null,
      "outputs": []
    },
    {
      "cell_type": "code",
      "source": [
        "loss_history = []\n",
        "\n",
        "max_MSE = 10000\n",
        "\n",
        "# 모델 GPU 메모리에 올리기\n",
        "model = model.to(device)\n",
        "\n",
        "# Best 모델 초기화\n",
        "model_max = copy.deepcopy(model)\n",
        "\n",
        "# 결과 정리를 위한 PrettyTable\n",
        "valid_metric_record = []\n",
        "valid_metric_header = [\"# epoch\"] \n",
        "valid_metric_header.extend([\"MSE\", \"Pearson Correlation\", \"with p-value\", \"Concordance Index\"])\n",
        "table = PrettyTable(valid_metric_header)\n",
        "\n",
        "float2str = lambda x:'%0.4f'%x # float 소숫점 4자리까지만 str로 바꾸기 \n",
        "\n",
        "# 학습 진행\n",
        "print('--- Go for Training ---')\n",
        "# 학습 시작 시간 기록 \n",
        "t_start = time() \n",
        "\n",
        "for epo in range(train_epoch):\n",
        "    # Model training \n",
        "    model.train()\n",
        "    \n",
        "    # Mini-batch 학습 \n",
        "    for i, (v_d, label) in enumerate(training_generator):\n",
        "        # input data gpu에 올리기 \n",
        "        v_d = v_d.float().to(device) \n",
        "        # forward-pass\n",
        "        score = model(v_d) \n",
        "\n",
        "        n = torch.squeeze(score, 1)\n",
        "\n",
        "        # 미리 정의한 손실함수(MSE)로 손실(loss) 계산 \n",
        "        loss = loss_fn(n.float(), label.float().to(device))\n",
        "\n",
        "        # 각 iteration 마다 loss 기록 \n",
        "        loss_history.append(loss.item())\n",
        "\n",
        "        # gradient 초기화\n",
        "        opt.zero_grad()\n",
        "        # back propagation\n",
        "        loss.backward()\n",
        "        # parameter update\n",
        "        opt.step()\n",
        "    \n",
        "    # gradient tracking X\n",
        "    with torch.set_grad_enabled(False):\n",
        "        \n",
        "        y_pred = []\n",
        "        y_label = []\n",
        "        # model validation\n",
        "        model.eval()\n",
        "\n",
        "        for i, (v_d, label) in enumerate(valid_generator):\n",
        "            # validation 입력 데이터 gpu에 올리기\n",
        "            v_d = v_d.float().to(device)\n",
        "\n",
        "            # forward-pass\n",
        "            score = model(v_d)\n",
        "\n",
        "            # \b예측값, 참값 cpu로 옮기고 numpy 형으로 변환\n",
        "            logits = torch.squeeze(score).cpu().numpy()\n",
        "            label_ids = label.cpu().numpy()\n",
        "\n",
        "            # 예측값, 참값 기록하기\n",
        "            y_label = y_label + label_ids.flatten().tolist()\n",
        "            y_pred = y_pred + logits.flatten().tolist()\n",
        "    \n",
        "    # metric 계산\n",
        "    mse = mean_squared_error(y_label, y_pred) # MSE \n",
        "    r2 = pearsonr(y_label, y_pred)[0] # Pearson correlation coefficient\n",
        "    p_val = pearsonr(y_label, y_pred)[1] # Pearson correlation p-value\n",
        "    CI =  concordance_index(y_label, y_pred) # CI \n",
        "\n",
        "    # 계산한 metric 합치기\n",
        "    lst = [\"epoch \" + str(epo)] + list(map(float2str,[mse, r2, p_val, CI]))\n",
        "\n",
        "    # 각 epoch 마다 결과값 pretty table에 기록\n",
        "    table.add_row(lst)\n",
        "    valid_metric_record.append(lst)\n",
        "    \n",
        "    # mse 기준으로 best model 업데이트\n",
        "    if mse < max_MSE:\n",
        "        # best model deepcopy \n",
        "        model_max = copy.deepcopy(model)\n",
        "        # max MSE 업데이트 \n",
        "        max_MSE = mse\n",
        "\n",
        "    # 각 epoch 마다 결과 출력 \n",
        "    print('Validation at Epoch '+ str(epo + 1) + ' , MSE: ' + str(mse)[:7] + ' , Pearson Correlation: '\\\n",
        "\t\t\t\t\t\t + str(r2)[:7] + ' with p-value: ' + str(f\"{p_val:.2E}\") +' , Concordance Index: '+str(CI)[:7])"
      ],
      "metadata": {
        "colab": {
          "base_uri": "https://localhost:8080/"
        },
        "id": "oTDJ-9mr33HC",
        "outputId": "c2e17c85-2ab7-476e-fea0-a489ce14bb8b"
      },
      "execution_count": null,
      "outputs": [
        {
          "output_type": "stream",
          "name": "stdout",
          "text": [
            "--- Go for Training ---\n",
            "Validation at Epoch 1 , MSE: 0.57077 , Pearson Correlation: 0.64662 with p-value: 1.30E-88 , Concordance Index: 0.71701\n",
            "Validation at Epoch 2 , MSE: 0.48462 , Pearson Correlation: 0.70548 with p-value: 3.72E-112 , Concordance Index: 0.74105\n",
            "Validation at Epoch 3 , MSE: 0.44410 , Pearson Correlation: 0.73647 with p-value: 4.61E-127 , Concordance Index: 0.75782\n",
            "Validation at Epoch 4 , MSE: 0.41264 , Pearson Correlation: 0.75955 with p-value: 1.28E-139 , Concordance Index: 0.76911\n",
            "Validation at Epoch 5 , MSE: 0.41591 , Pearson Correlation: 0.76028 with p-value: 4.86E-140 , Concordance Index: 0.76941\n",
            "Validation at Epoch 6 , MSE: 0.42285 , Pearson Correlation: 0.75923 with p-value: 1.95E-139 , Concordance Index: 0.77202\n",
            "Validation at Epoch 7 , MSE: 0.42960 , Pearson Correlation: 0.75798 with p-value: 1.02E-138 , Concordance Index: 0.77067\n",
            "Validation at Epoch 8 , MSE: 0.42347 , Pearson Correlation: 0.75895 with p-value: 2.86E-139 , Concordance Index: 0.77269\n",
            "Validation at Epoch 9 , MSE: 0.42007 , Pearson Correlation: 0.75586 with p-value: 1.63E-137 , Concordance Index: 0.77132\n",
            "Validation at Epoch 10 , MSE: 0.41579 , Pearson Correlation: 0.75760 with p-value: 1.67E-138 , Concordance Index: 0.77223\n",
            "Validation at Epoch 11 , MSE: 0.42616 , Pearson Correlation: 0.75562 with p-value: 2.20E-137 , Concordance Index: 0.77126\n",
            "Validation at Epoch 12 , MSE: 0.41266 , Pearson Correlation: 0.75780 with p-value: 1.29E-138 , Concordance Index: 0.77030\n",
            "Validation at Epoch 13 , MSE: 0.42238 , Pearson Correlation: 0.75294 with p-value: 7.05E-136 , Concordance Index: 0.77011\n",
            "Validation at Epoch 14 , MSE: 0.43256 , Pearson Correlation: 0.75904 with p-value: 2.51E-139 , Concordance Index: 0.77159\n",
            "Validation at Epoch 15 , MSE: 0.41773 , Pearson Correlation: 0.75450 with p-value: 9.48E-137 , Concordance Index: 0.77108\n"
          ]
        }
      ]
    },
    {
      "cell_type": "markdown",
      "source": [
        "# **Model Testing**"
      ],
      "metadata": {
        "id": "42jLnnD45ndE"
      }
    },
    {
      "cell_type": "code",
      "source": [
        "for i, (v_d, label) in enumerate(test_dataset):\n",
        "    print(v_d)\n",
        "    print(label)\n",
        "    break"
      ],
      "metadata": {
        "colab": {
          "base_uri": "https://localhost:8080/"
        },
        "id": "Fyeh0QD9-cC3",
        "outputId": "72db9f6e-7cd2-422c-8566-840029e4e4af"
      },
      "execution_count": null,
      "outputs": [
        {
          "output_type": "stream",
          "name": "stdout",
          "text": [
            "[0. 1. 0. ... 0. 0. 0.]\n",
            "3.114\n"
          ]
        }
      ]
    },
    {
      "cell_type": "code",
      "source": [
        "y_pred = []\n",
        "y_label = []\n",
        "\n",
        "model.eval()\n",
        "for i, (v_d, label) in enumerate(test_generator):\n",
        "    # input data gpu에 올리기 \n",
        "    v_d = v_d.float().to(device)\n",
        "\n",
        "    # forward-pass\n",
        "    score = model(v_d)\n",
        "\n",
        "    # 예측값 gradient graph detach -> cpu로 옮기기 -> numpy 형으로 변환 \n",
        "    logits = torch.squeeze(score).detach().cpu().numpy()\n",
        "\n",
        "    # 참값 cpu로 옮기고 numpy 형으로 변환 \n",
        "    label_ids = label.cpu().numpy()\n",
        "\n",
        "    # 예측값, 참값 기록\n",
        "    y_label = y_label + label_ids.flatten().tolist()\n",
        "    y_pred = y_pred + logits.flatten().tolist()\n",
        "\n",
        "# metric 계산\n",
        "mse = mean_squared_error(y_label, y_pred)\n",
        "r2 = pearsonr(y_label, y_pred)[0]\n",
        "p_val = pearsonr(y_label, y_pred)[1]\n",
        "CI =  concordance_index(y_label, y_pred)\n",
        "\n",
        "print('TestSet Performence Metric '+  ' , MSE: ' + str(mse)[:7] + ' , Pearson Correlation: '\\\n",
        "        + str(r2)[:7] + ' with p-value: ' + str(f\"{p_val:.2E}\") +' , Concordance Index: '+str(CI)[:7])"
      ],
      "metadata": {
        "colab": {
          "base_uri": "https://localhost:8080/"
        },
        "id": "YDQNhqFH5qic",
        "outputId": "e77e6e3b-6f09-482c-8721-46ce1f9371af"
      },
      "execution_count": null,
      "outputs": [
        {
          "output_type": "stream",
          "name": "stdout",
          "text": [
            "TestSet Performence Metric  , MSE: 0.39103 , Pearson Correlation: 0.75453 with p-value: 4.27E-272 , Concordance Index: 0.75574\n"
          ]
        }
      ]
    },
    {
      "cell_type": "code",
      "source": [
        "import matplotlib.pyplot as plt\n",
        "\n",
        "plt.figure(figsize=(10,10))\n",
        "plt.scatter(y_label, y_pred, c='crimson')\n",
        "plt.yscale('log')\n",
        "plt.xscale('log')\n",
        "\n",
        "p1 = max(max(y_pred), max(y_label))\n",
        "p2 = min(min(y_pred), min(y_label))\n",
        "plt.plot([p1, p2], [p1, p2], 'b-')\n",
        "plt.xlabel('True Values', fontsize=15)\n",
        "plt.ylabel('Predictions', fontsize=15)\n",
        "plt.axis('equal')\n",
        "plt.title('Chemical Toxicity Prediction')\n",
        "plt.show()"
      ],
      "metadata": {
        "colab": {
          "base_uri": "https://localhost:8080/",
          "height": 883
        },
        "id": "yv8BZBzK-kFa",
        "outputId": "ebe5fd6b-22b2-43be-f857-1129546789fb"
      },
      "execution_count": null,
      "outputs": [
        {
          "output_type": "display_data",
          "data": {
            "text/plain": [
              "<Figure size 1000x1000 with 1 Axes>"
            ],
            "image/png": "[encoded data removed]"
          },
          "metadata": {}
        }
      ]
    }
  ]
}